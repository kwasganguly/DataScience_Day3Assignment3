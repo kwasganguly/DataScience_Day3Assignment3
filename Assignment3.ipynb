{
 "cells": [
  {
   "cell_type": "markdown",
   "metadata": {},
   "source": [
    "1.1 Write a Python Program to implement your own myreduce() function which works exactly\n",
    "like Python's built-in function reduce()"
   ]
  },
  {
   "cell_type": "code",
   "execution_count": 7,
   "metadata": {},
   "outputs": [
    {
     "name": "stdout",
     "output_type": "stream",
     "text": [
      "Input Range: \n",
      "\t range(1, 10)\n",
      "\n",
      "Add Reduce: \n",
      "\t 45\n",
      "\n",
      "Substraction Reduce: \n",
      "\t -43\n",
      "\n",
      "Multiply Reducee: \n",
      "\t 362880\n"
     ]
    }
   ],
   "source": [
    "def myreduce(InputFunction,lstInputRange):\n",
    "    a1 = lstInputRange[0]\n",
    "    a2 = lstInputRange[1]\n",
    "    out = InputFunction(a1,a2)\n",
    "    a1=out\n",
    "    counter=0\n",
    "    for i in lstInputRange:\n",
    "        counter=counter+1    \n",
    "        if counter > 2:            \n",
    "            a2 = i\n",
    "            out = InputFunction(a1,a2)\n",
    "            a1=out            \n",
    "    return out\n",
    "\n",
    "\n",
    "def func_Add(num1,num2):\n",
    "    return num1+num2\n",
    "\n",
    "def func_Substract(num1,num2):\n",
    "    return num1-num2\n",
    "\n",
    "def func_Multiply(num1,num2):\n",
    "    return num1*num2\n",
    "\n",
    "      \n",
    "lstInputRange=range(1,10)\n",
    "print('Input Range: \\n\\t',lstInputRange)\n",
    "print('\\nAdd Reduce: \\n\\t', myreduce(func_Add,lstInputRange))\n",
    "print('\\nSubstraction Reduce: \\n\\t', myreduce(func_Substract,lstInputRange))\n",
    "print('\\nMultiply Reducee: \\n\\t', myreduce(func_Multiply,lstInputRange))   "
   ]
  },
  {
   "cell_type": "markdown",
   "metadata": {},
   "source": [
    "1.2 Write a Python program to implement your own myfilter() function which works exactly like\n",
    "Python's built-in function filter()"
   ]
  },
  {
   "cell_type": "code",
   "execution_count": 6,
   "metadata": {},
   "outputs": [
    {
     "name": "stdout",
     "output_type": "stream",
     "text": [
      "Input Range: \n",
      "\t range(1, 50)\n",
      "\n",
      "Even Number from Range: \n",
      "\t [2, 4, 6, 8, 10, 12, 14, 16, 18, 20, 22, 24, 26, 28, 30, 32, 34, 36, 38, 40, 42, 44, 46, 48]\n",
      "\n",
      "Odd Number from Range: \n",
      "\t [1, 3, 5, 7, 9, 11, 13, 15, 17, 19, 21, 23, 25, 27, 29, 31, 33, 35, 37, 39, 41, 43, 45, 47, 49]\n",
      "\n",
      "Perfect Square Number from Range: \n",
      "\t [1, 4, 9, 16, 25, 36, 49]\n"
     ]
    }
   ],
   "source": [
    "def myfilter(eventFunction,lstInputRange):    \n",
    "    lstOutput=[]\n",
    "    for item in lstInputRange:\n",
    "        if eventFunction(item)==True:\n",
    "            lstOutput.append(item)\n",
    "    return lstOutput\n",
    "\n",
    "\n",
    "def IsEven(intInput):\n",
    "    if intInput%2==0:\n",
    "        return True\n",
    "\n",
    "def IsOdd(intInput):\n",
    "    if intInput%2!=0:\n",
    "        return True\n",
    "\n",
    "def IsPerfectSquare(intInput):\n",
    "    intTemp = int(pow(intInput, 1/2))\n",
    "    intTemp = pow(intTemp, 2)\n",
    "    if intTemp==intInput:\n",
    "        return True\n",
    "\n",
    "\n",
    "lstInputRange = range(1,50)\n",
    "print('Input Range: \\n\\t',lstInputRange)\n",
    "print('\\nEven Number from Range: \\n\\t', myfilter(IsEven,lstInputRange))\n",
    "print('\\nOdd Number from Range: \\n\\t', myfilter(IsOdd,lstInputRange))\n",
    "print('\\nPerfect Square Number from Range: \\n\\t', myfilter(IsPerfectSquare,lstInputRange))   "
   ]
  },
  {
   "cell_type": "markdown",
   "metadata": {},
   "source": [
    "2.Implement List comprehensions to produce the following lists.\n",
    "Write List comprehensions to produce the following Lists\n",
    "['A', 'C', 'A', 'D', 'G', 'I', ’L’, ‘ D’]\n",
    "['x', 'xx', 'xxx', 'xxxx', 'y', 'yy', 'yyy', 'yyyy', 'z', 'zz', 'zzz', 'zzzz']\n",
    "['x', 'y', 'z', 'xx', 'yy', 'zz', 'xx', 'yy', 'zz', 'xxxx', 'yyyy', 'zzzz']\n",
    "[[2], [3], [4], [3], [4], [5], [4], [5], [6]]\n",
    "[[2, 3, 4, 5], [3, 4, 5, 6], [4, 5, 6, 7], [5, 6, 7, 8]]\n",
    "[(1, 1), (2, 1), (3, 1), (1, 2), (2, 2), (3, 2), (1, 3), (2, 3), (3, 3)]"
   ]
  },
  {
   "cell_type": "code",
   "execution_count": 8,
   "metadata": {},
   "outputs": [
    {
     "name": "stdout",
     "output_type": "stream",
     "text": [
      "\n",
      "Problem-1\n",
      "['A', 'C', 'A', 'D', 'G', 'I', 'L', 'D']\n",
      "\n",
      "Problem-2\n",
      "['x', 'xx', 'xxx', 'xxxx', 'y', 'yy', 'yyy', 'yyyy', 'z', 'zz', 'zzz', 'zzzz']\n",
      "\n",
      "Problem-3\n",
      "['x', 'y', 'z', 'xx', 'yy', 'zz', 'xx', 'yy', 'zz', 'xxxx', 'yyyy', 'zzzz']\n",
      "\n",
      "Problem-4\n",
      "[[2], [3], [4], [3], [4], [5], [4], [5], [6]]\n",
      "\n",
      "Problem-5\n",
      "[[2, 3, 4, 5], [3, 4, 5, 6], [4, 5, 6, 7], [5, 6, 7, 8]]\n",
      "\n",
      "Problem-6\n",
      "[(1, 1), (2, 1), (3, 1), (1, 2), (2, 2), (3, 2), (1, 3), (2, 3), (3, 3)]\n"
     ]
    }
   ],
   "source": [
    "print('\\nProblem-1')\n",
    "strInput = 'ACADGILD'\n",
    "lstOutput=[Letter for Letter in strInput]\n",
    "print(lstOutput)\n",
    "\n",
    "print('\\nProblem-2')\n",
    "strInput = 'x,xx,xxx,xxxx,y,yy,yyy,yyyy,z,zz,zzz,zzzz'\n",
    "lstOutput=[Letter for Letter in strInput.split(',')]\n",
    "print(lstOutput)\n",
    "\n",
    "print('\\nProblem-3')\n",
    "strInput = 'x,y,z,xx,yy,zz,xx,yy,zz,xxxx,yyyy,zzzz'\n",
    "lstOutput=[Letter for Letter in strInput.split(',')]\n",
    "print(lstOutput)\n",
    "\n",
    "print('\\nProblem-4')\n",
    "strInput = '234345456'\n",
    "lstOutput=[[int(Letter)] for Letter in strInput]\n",
    "print(lstOutput)\n",
    "\n",
    "print('\\nProblem-5')\n",
    "strInput = [list(range(2,6)),list(range(3,7)),list(range(4,8)),list(range(5,9))]\n",
    "lstOutput=[Letter for Letter in strInput]\n",
    "print(lstOutput)\n",
    "\n",
    "print('\\nProblem-6')\n",
    "strInput = [(1, 1), (2, 1), (3, 1), (1, 2), (2, 2), (3, 2), (1, 3), (2, 3), (3, 3)]\n",
    "lstOutput=[Letter for Letter in strInput]\n",
    "print(lstOutput)"
   ]
  },
  {
   "cell_type": "markdown",
   "metadata": {},
   "source": [
    "3.Implement a function longestWord() that takes a list of words and returns the longest one."
   ]
  },
  {
   "cell_type": "code",
   "execution_count": 1,
   "metadata": {},
   "outputs": [
    {
     "name": "stdout",
     "output_type": "stream",
     "text": [
      "Please input a list of words to evaluate: to be or not to be awesome\n",
      "The longest word is awesome\n"
     ]
    }
   ],
   "source": [
    "def longestWord():\n",
    "    text = input(\"Please input a list of words to evaluate: \")\n",
    "\n",
    "    longest = 0\n",
    "\n",
    "    for words in text.split():\n",
    "        if len(words) > longest:\n",
    "            longest_word = words\n",
    "\n",
    "    print(\"The longest word is\", longest_word)\n",
    "\n",
    "longestWord() "
   ]
  }
 ],
 "metadata": {
  "kernelspec": {
   "display_name": "Python 3",
   "language": "python",
   "name": "python3"
  },
  "language_info": {
   "codemirror_mode": {
    "name": "ipython",
    "version": 3
   },
   "file_extension": ".py",
   "mimetype": "text/x-python",
   "name": "python",
   "nbconvert_exporter": "python",
   "pygments_lexer": "ipython3",
   "version": "3.6.4"
  }
 },
 "nbformat": 4,
 "nbformat_minor": 2
}
